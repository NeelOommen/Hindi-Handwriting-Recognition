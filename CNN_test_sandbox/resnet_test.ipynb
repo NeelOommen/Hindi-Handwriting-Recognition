{
 "cells": [
  {
   "cell_type": "code",
   "execution_count": null,
   "metadata": {},
   "outputs": [],
   "source": [
    "import torch\n",
    "from custom_dataset import CustomImageDataset\n",
    "from torch.utils.data import DataLoader\n",
    "import torch.nn as nn\n",
    "from timeit import default_timer as timer"
   ]
  },
  {
   "cell_type": "code",
   "execution_count": null,
   "metadata": {},
   "outputs": [],
   "source": [
    "if torch.cuda.is_available():\n",
    "    device = 'cuda'\n",
    "else:\n",
    "    device = 'cpu'\n",
    "\n",
    "print(device)"
   ]
  },
  {
   "cell_type": "code",
   "execution_count": null,
   "metadata": {},
   "outputs": [],
   "source": [
    "batch_size=512"
   ]
  },
  {
   "cell_type": "code",
   "execution_count": null,
   "metadata": {},
   "outputs": [],
   "source": [
    "training_dataset = CustomImageDataset(\n",
    "    r'D:\\\\GitHub\\\\Hindi-Handwriting-Recognition\\\\CNN_test_sandbox\\Dataset\\\\Train\\\\annotations.csv',\n",
    "    r'D:\\\\GitHub\\\\Hindi-Handwriting-Recognition\\\\CNN_test_sandbox\\Dataset\\\\Train',\n",
    "    )\n",
    "\n",
    "training_loader = DataLoader(training_dataset, batch_size=batch_size, shuffle=True)\n",
    "\n",
    "testing_dataset = CustomImageDataset(\n",
    "    r'D:\\\\GitHub\\\\Hindi-Handwriting-Recognition\\\\CNN_test_sandbox\\Dataset\\\\Test\\\\annotations.csv',\n",
    "    r'D:\\\\GitHub\\\\Hindi-Handwriting-Recognition\\\\CNN_test_sandbox\\Dataset\\\\Test'\n",
    ")\n",
    "\n",
    "testing_loader = DataLoader(testing_dataset, batch_size=batch_size, shuffle=True)"
   ]
  },
  {
   "cell_type": "code",
   "execution_count": null,
   "metadata": {},
   "outputs": [],
   "source": [
    "def test_and_evaluate(model, device, criterion, optimizer, scheduler, epochs,  batch_size, training_loader, testing_loader, testing_dataset):\n",
    "    n_total_steps = len(training_loader)\n",
    "    print('Training')\n",
    "    for epoch in range(epochs):\n",
    "        losses = []\n",
    "        start = timer()\n",
    "        for i, (images, labels) in enumerate(training_loader):\n",
    "            images = images.to(device)\n",
    "            labels = labels.type(torch.LongTensor)\n",
    "            labels = labels.to(device)\n",
    "    \n",
    "            outputs = model(images)\n",
    "            loss = criterion(outputs, labels)\n",
    "\n",
    "            losses.append(loss)\n",
    "    \n",
    "            optimizer.zero_grad()\n",
    "            loss.backward()\n",
    "            optimizer.step()\n",
    "    \n",
    "            # if (i+1) % 30 == 0:\n",
    "            #     print(f'Epoch [{epoch+1}/{num_epochs}], Step [{i+1}/{n_total_steps}], Loss: {loss.item():.4f}')\n",
    "        mean_loss = sum(losses) / len(losses)\n",
    "        scheduler.step(mean_loss)\n",
    "        end = timer()\n",
    "        print(f'Time for Epoch {epoch+1}: {end-start:.4f} seconds')\n",
    "    \n",
    "    #Evaluate\n",
    "    print('Evaluating')\n",
    "    sample_limit = int(testing_dataset.__len__() / 46)\n",
    "    with torch.no_grad():\n",
    "        n_correct = 0\n",
    "        n_samples = 0\n",
    "        n_class_correct = [0 for i in range(46)]\n",
    "        n_class_samples = [0 for i in range(46)]\n",
    "        for images, labels in testing_loader:\n",
    "            images = images.to(device)\n",
    "            labels = labels.to(device)\n",
    "            outputs = model(images)\n",
    "\n",
    "            _, predicted = torch.max(outputs, 1)\n",
    "            n_samples += labels.size(0)\n",
    "            n_correct += (predicted == labels).sum().item()\n",
    "\n",
    "            test_limit = min(batch_size, sample_limit)\n",
    "\n",
    "            for i in range(test_limit):\n",
    "                label = labels[i]\n",
    "                pred = predicted[i]\n",
    "                label = int(label)\n",
    "                if (label == pred):\n",
    "                    n_class_correct[label] += 1\n",
    "                n_class_samples[label] += 1\n",
    "\n",
    "        acc = 100.0 * n_correct / n_samples\n",
    "        print(f'Accurracy of the network: {acc}%')\n",
    "\n",
    "        return acc"
   ]
  },
  {
   "cell_type": "code",
   "execution_count": null,
   "metadata": {},
   "outputs": [],
   "source": [
    "#setup test \n",
    "result_list = []\n",
    "\n",
    "result_fields = ['Model Name', 'Number of Epochs', 'Accuracy']"
   ]
  },
  {
   "cell_type": "code",
   "execution_count": null,
   "metadata": {},
   "outputs": [],
   "source": [
    "main_training = False"
   ]
  },
  {
   "cell_type": "code",
   "execution_count": null,
   "metadata": {},
   "outputs": [],
   "source": [
    "#test resnet 50\n",
    "from resnet import ResNet50\n",
    "learning_rate = 0.05\n",
    "\n",
    "for num_epochs in range(10, 81, 10):\n",
    "   for i in range(1):\n",
    "       model = ResNet50(img_channels=1, num_classes=46).to(device)\n",
    "\n",
    "       criterion = nn.CrossEntropyLoss()\n",
    "       optimizer = torch.optim.SGD(model.parameters(), lr  = learning_rate)\n",
    "       scheduler = torch.optim.lr_scheduler.CosineAnnealingLR(optimizer, T_max=num_epochs, eta_min=0.001)\n",
    "\n",
    "       result_accuracy = test_and_evaluate(model, device, criterion, optimizer, scheduler, num_epochs, batch_size, training_loader, testing_loader, testing_dataset)\n",
    "\n",
    "       #store result\n",
    "       temp_dict = {'Model Name': 'ResNet50','Number of Epochs': num_epochs,'Accuracy': result_accuracy}\n",
    "       result_list.append(temp_dict)\n",
    "       print(result_list)\n"
   ]
  },
  {
   "cell_type": "code",
   "execution_count": null,
   "metadata": {},
   "outputs": [],
   "source": [
    "#write test results to csv\n",
    "import csv\n",
    "\n",
    "with open(r'D:\\\\GitHub\\\\Hindi-Handwriting-Recognition\\\\CNN_test_sandbox\\\\resnet50_new_learning_results.csv', 'w', newline='') as csvfile:\n",
    "    writer = csv.DictWriter(csvfile, fieldnames=result_fields)\n",
    "    writer.writerows(result_list)\n",
    "\n",
    "print('Saved Data!')"
   ]
  },
  {
   "cell_type": "code",
   "execution_count": null,
   "metadata": {},
   "outputs": [],
   "source": [
    "#test resnet 101\n",
    "result_list = []\n",
    "from resnet import ResNet101\n",
    "learning_rate = 0.05\n",
    "\n",
    "for num_epochs in range(10, 81, 10):\n",
    "    for i in range(1):\n",
    "        model = ResNet101(img_channels=1, num_classes=46).to(device)\n",
    "    \n",
    "        criterion = nn.CrossEntropyLoss()\n",
    "        optimizer = torch.optim.SGD(model.parameters(), lr  = learning_rate)\n",
    "        scheduler = torch.optim.lr_scheduler.CosineAnnealingLR(optimizer, T_max=num_epochs, eta_min=0.001)\n",
    "    \n",
    "        result_accuracy = test_and_evaluate(model, device, criterion, optimizer, scheduler, num_epochs, batch_size, training_loader, testing_loader, testing_dataset)\n",
    "    \n",
    "        #store result\n",
    "        temp_dict = {'Model Name': 'ResNet101','Number of Epochs': num_epochs,'Accuracy': result_accuracy}\n",
    "        result_list.append(temp_dict)\n",
    "        print(result_list)\n",
    "   "
   ]
  },
  {
   "cell_type": "code",
   "execution_count": null,
   "metadata": {},
   "outputs": [],
   "source": [
    "#write test results to csv\n",
    "import csv\n",
    "\n",
    "with open(r'D:\\\\GitHub\\\\Hindi-Handwriting-Recognition\\\\CNN_test_sandbox\\\\resnet101_new_learning_results.csv', 'w', newline='') as csvfile:\n",
    "    writer = csv.DictWriter(csvfile, fieldnames=result_fields)\n",
    "    writer.writerows(result_list)\n",
    "\n",
    "print('Saved Data!')"
   ]
  },
  {
   "cell_type": "code",
   "execution_count": null,
   "metadata": {},
   "outputs": [],
   "source": [
    "#test resnet 50\n",
    "result_list = []\n",
    "from resnet import ResNet152\n",
    "learning_rate = 0.05\n",
    "\n",
    "for num_epochs in range(10, 81, 10):\n",
    "    for i in range(1):\n",
    "        model = ResNet152(img_channels=1, num_classes=46).to(device)\n",
    "    \n",
    "        criterion = nn.CrossEntropyLoss()\n",
    "        optimizer = torch.optim.SGD(model.parameters(), lr  = learning_rate)\n",
    "        scheduler = torch.optim.lr_scheduler.CosineAnnealingLR(optimizer, T_max=num_epochs, eta_min=0.001)\n",
    "    \n",
    "        result_accuracy = test_and_evaluate(model, device, criterion, optimizer, scheduler, num_epochs, batch_size, training_loader, testing_loader, testing_dataset)\n",
    "    \n",
    "        #store result\n",
    "        temp_dict = {'Model Name': 'ResNet152','Number of Epochs': num_epochs,'Accuracy': result_accuracy}\n",
    "        result_list.append(temp_dict)\n",
    "        print(result_list)"
   ]
  },
  {
   "cell_type": "code",
   "execution_count": null,
   "metadata": {},
   "outputs": [],
   "source": [
    "#write test results to csv\n",
    "import csv\n",
    "\n",
    "with open(r'D:\\\\GitHub\\\\Hindi-Handwriting-Recognition\\\\CNN_test_sandbox\\\\resnet152_new_learning_results.csv', 'w', newline='') as csvfile:\n",
    "    writer = csv.DictWriter(csvfile, fieldnames=result_fields)\n",
    "    writer.writerows(result_list)\n",
    "\n",
    "print('Saved Data!')"
   ]
  },
  {
   "cell_type": "code",
   "execution_count": null,
   "metadata": {},
   "outputs": [],
   "source": [
    "learning_rate_list = []"
   ]
  },
  {
   "cell_type": "code",
   "execution_count": null,
   "metadata": {},
   "outputs": [],
   "source": [
    "from resnet import ResNet50\n",
    "\n",
    "num_epochs = 30"
   ]
  },
  {
   "cell_type": "code",
   "execution_count": null,
   "metadata": {},
   "outputs": [],
   "source": [
    "learning_rate_test = False"
   ]
  },
  {
   "cell_type": "code",
   "execution_count": null,
   "metadata": {},
   "outputs": [],
   "source": [
    "if learning_rate_test:\n",
    "    model = ResNet50(img_channels=1, num_classes=46).to(device)\n",
    "    \n",
    "    learning_rate = 0.05\n",
    "        \n",
    "    criterion = nn.CrossEntropyLoss()\n",
    "    optimizer = torch.optim.SGD(model.parameters(), lr = learning_rate)\n",
    "    scheduler = torch.optim.lr_scheduler.ReduceLROnPlateau(optimizer, patience=5)\n",
    "    \n",
    "    result_accuracy = test_and_evaluate(model, device, criterion, optimizer, scheduler, num_epochs, batch_size, training_loader, testing_loader, testing_dataset)\n",
    "    \n",
    "    temp_dict = {\n",
    "        'Learning_Model': 'ReduceLROnPlateau', \n",
    "        'Accuracy': result_accuracy\n",
    "    }\n",
    "    \n",
    "    learning_rate_list.append(temp_dict)"
   ]
  },
  {
   "cell_type": "code",
   "execution_count": null,
   "metadata": {},
   "outputs": [],
   "source": [
    "if learning_rate_test:\n",
    "    model = ResNet50(img_channels=1, num_classes=46).to(device)\n",
    "    \n",
    "    learning_rate = 0.05\n",
    "        \n",
    "    criterion = nn.CrossEntropyLoss()\n",
    "    optimizer = torch.optim.SGD(model.parameters(), lr = learning_rate)\n",
    "    l1 = lambda epoch: 0.95 ** epoch\n",
    "    scheduler = torch.optim.lr_scheduler.LambdaLR(optimizer, lr_lambda=l1)\n",
    "    \n",
    "    result_accuracy = test_and_evaluate(model, device, criterion, optimizer, scheduler, num_epochs, batch_size, training_loader, testing_loader, testing_dataset)\n",
    "    \n",
    "    temp_dict = {\n",
    "        'Learning_Model': 'LambdaLR', \n",
    "        'Accuracy': result_accuracy\n",
    "    }\n",
    "    \n",
    "    learning_rate_list.append(temp_dict)\n",
    "    \n",
    "    print(learning_rate_list)"
   ]
  },
  {
   "cell_type": "code",
   "execution_count": null,
   "metadata": {},
   "outputs": [],
   "source": [
    "def count_parameters(model):\n",
    "    return sum(p.numel() for p in model.parameters() if p.requires_grad)"
   ]
  },
  {
   "cell_type": "code",
   "execution_count": null,
   "metadata": {},
   "outputs": [],
   "source": [
    "if learning_rate_test:\n",
    "    model = ResNet50(img_channels=1, num_classes=46).to(device)\n",
    "    \n",
    "    print(count_parameters(model))\n",
    "    \n",
    "    learning_rate = 0.05\n",
    "        \n",
    "    criterion = nn.CrossEntropyLoss()\n",
    "    optimizer = torch.optim.SGD(model.parameters(), lr = learning_rate)\n",
    "    l1 = lambda epoch: 0.95\n",
    "    scheduler = torch.optim.lr_scheduler.MultiplicativeLR(optimizer, lr_lambda=l1)\n",
    "    \n",
    "    result_accuracy = test_and_evaluate(model, device, criterion, optimizer, scheduler, num_epochs, batch_size, training_loader, testing_loader, testing_dataset)\n",
    "    \n",
    "    temp_dict = {\n",
    "        'Learning_Model': 'MultiplicativeLR', \n",
    "        'Accuracy': result_accuracy\n",
    "    }\n",
    "    \n",
    "    learning_rate_list.append(temp_dict)\n",
    "    print(learning_rate_list)"
   ]
  },
  {
   "cell_type": "code",
   "execution_count": null,
   "metadata": {},
   "outputs": [],
   "source": [
    "if learning_rate_test:\n",
    "    model = ResNet50(img_channels=1, num_classes=46).to(device)\n",
    "    \n",
    "    learning_rate = 0.05\n",
    "        \n",
    "    criterion = nn.CrossEntropyLoss()\n",
    "    optimizer = torch.optim.SGD(model.parameters(), lr = learning_rate)\n",
    "    scheduler = torch.optim.lr_scheduler.StepLR(optimizer, step_size=5, gamma=0.1)\n",
    "    \n",
    "    result_accuracy = test_and_evaluate(model, device, criterion, optimizer, scheduler, num_epochs, batch_size, training_loader, testing_loader, testing_dataset)\n",
    "    \n",
    "    temp_dict = {\n",
    "        'Learning_Model': 'StepLR', \n",
    "        'Accuracy': result_accuracy\n",
    "    }\n",
    "    \n",
    "    learning_rate_list.append(temp_dict)\n",
    "    print(learning_rate_list)"
   ]
  },
  {
   "cell_type": "code",
   "execution_count": null,
   "metadata": {},
   "outputs": [],
   "source": [
    "if learning_rate_test:\n",
    "    model = ResNet50(img_channels=1, num_classes=46).to(device)\n",
    "    \n",
    "    learning_rate = 0.05\n",
    "        \n",
    "    criterion = nn.CrossEntropyLoss()\n",
    "    optimizer = torch.optim.SGD(model.parameters(), lr = learning_rate)\n",
    "    scheduler = torch.optim.lr_scheduler.LinearLR(optimizer)\n",
    "    \n",
    "    result_accuracy = test_and_evaluate(model, device, criterion, optimizer, scheduler, num_epochs, batch_size, training_loader, testing_loader, testing_dataset)\n",
    "    \n",
    "    temp_dict = {\n",
    "        'Learning_Model': 'LinearLR', \n",
    "        'Accuracy': result_accuracy\n",
    "    }\n",
    "    \n",
    "    learning_rate_list.append(temp_dict)\n",
    "    print(learning_rate_list)"
   ]
  },
  {
   "cell_type": "code",
   "execution_count": null,
   "metadata": {},
   "outputs": [],
   "source": [
    "if learning_rate_test:    \n",
    "    model = ResNet50(img_channels=1, num_classes=46).to(device)\n",
    "\n",
    "    learning_rate = 0.05\n",
    "\n",
    "    criterion = nn.CrossEntropyLoss()\n",
    "    optimizer = torch.optim.SGD(model.parameters(), lr = learning_rate)\n",
    "    scheduler = torch.optim.lr_scheduler.ExponentialLR(optimizer, gamma=0.95)\n",
    "\n",
    "    result_accuracy = test_and_evaluate(model, device, criterion, optimizer, scheduler, num_epochs, batch_size, training_loader, testing_loader, testing_dataset)\n",
    "\n",
    "    temp_dict = {\n",
    "        'Learning_Model': 'ExponentialLR', \n",
    "        'Accuracy': result_accuracy\n",
    "    }\n",
    "\n",
    "    learning_rate_list.append(temp_dict)\n",
    "    print(learning_rate_list)"
   ]
  },
  {
   "cell_type": "code",
   "execution_count": null,
   "metadata": {},
   "outputs": [],
   "source": [
    "if learning_rate_test:\n",
    "    model = ResNet50(img_channels=1, num_classes=46).to(device)\n",
    "    \n",
    "    learning_rate = 0.05\n",
    "        \n",
    "    criterion = nn.CrossEntropyLoss()\n",
    "    optimizer = torch.optim.SGD(model.parameters(), lr = learning_rate)\n",
    "    scheduler = torch.optim.lr_scheduler.CosineAnnealingLR(optimizer, T_max=num_epochs, eta_min=0.001)\n",
    "    \n",
    "    result_accuracy = test_and_evaluate(model, device, criterion, optimizer, scheduler, num_epochs, batch_size, training_loader, testing_loader, testing_dataset)\n",
    "    \n",
    "    temp_dict = {\n",
    "        'Learning_Model': 'CosineAnnealingLR', \n",
    "        'Accuracy': result_accuracy\n",
    "    }\n",
    "    \n",
    "    learning_rate_list.append(temp_dict)\n",
    "    print(learning_rate_list)"
   ]
  },
  {
   "cell_type": "code",
   "execution_count": null,
   "metadata": {},
   "outputs": [],
   "source": [
    "if learning_rate_test:\n",
    "    model = ResNet50(img_channels=1, num_classes=46).to(device)\n",
    "    \n",
    "    learning_rate = 0.05\n",
    "        \n",
    "    criterion = nn.CrossEntropyLoss()\n",
    "    optimizer = torch.optim.SGD(model.parameters(), lr = learning_rate)\n",
    "    scheduler = torch.optim.lr_scheduler.CosineAnnealingWarmRestarts(optimizer, T_0=10, eta_min=0.0001)\n",
    "    \n",
    "    result_accuracy = test_and_evaluate(model, device, criterion, optimizer, scheduler, num_epochs, batch_size, training_loader, testing_loader, testing_dataset)\n",
    "    \n",
    "    temp_dict = {\n",
    "        'Learning_Model': 'CosineAnnealingWarmRestartsLR', \n",
    "        'Accuracy': result_accuracy\n",
    "    }\n",
    "    \n",
    "    learning_rate_list.append(temp_dict)\n",
    "    print(learning_rate_list)"
   ]
  },
  {
   "cell_type": "code",
   "execution_count": null,
   "metadata": {},
   "outputs": [],
   "source": [
    "if learning_rate_test:\n",
    "    #write test results to csv\n",
    "    import csv\n",
    "    \n",
    "    learning_fields = ['Learning_Model', 'Accuracy']\n",
    "    \n",
    "    with open(r'D:\\\\GitHub\\\\Hindi-Handwriting-Recognition\\\\CNN_test_sandbox\\\\learning_results.csv', 'w', newline='') as csvfile:\n",
    "        writer = csv.DictWriter(csvfile, fieldnames=learning_fields)\n",
    "        writer.writerows(learning_rate_list)\n",
    "    \n",
    "    print('Saved Data!')"
   ]
  }
 ],
 "metadata": {
  "kernelspec": {
   "display_name": ".venv",
   "language": "python",
   "name": "python3"
  },
  "language_info": {
   "codemirror_mode": {
    "name": "ipython",
    "version": 3
   },
   "file_extension": ".py",
   "mimetype": "text/x-python",
   "name": "python",
   "nbconvert_exporter": "python",
   "pygments_lexer": "ipython3",
   "version": "3.10.6"
  }
 },
 "nbformat": 4,
 "nbformat_minor": 2
}
